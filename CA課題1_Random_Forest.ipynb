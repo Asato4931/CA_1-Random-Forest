{
  "cells": [
    {
      "cell_type": "markdown",
      "metadata": {
        "id": "view-in-github",
        "colab_type": "text"
      },
      "source": [
        "<a href=\"https://colab.research.google.com/github/Asato4931/CA_1-Random-Forest/blob/main/CA%E8%AA%B2%E9%A1%8C1_Random_Forest.ipynb\" target=\"_parent\"><img src=\"https://colab.research.google.com/assets/colab-badge.svg\" alt=\"Open In Colab\"/></a>"
      ]
    },
    {
      "cell_type": "code",
      "execution_count": null,
      "metadata": {
        "id": "Jj_cQ8olsK9J",
        "colab": {
          "base_uri": "https://localhost:8080/"
        },
        "outputId": "1d03de9e-ca47-4bd5-e52f-3edc199d328a"
      },
      "outputs": [
        {
          "output_type": "stream",
          "name": "stdout",
          "text": [
            "------------------------ RandomForestsClassifier Result Summary\n",
            "              precision    recall  f1-score   support\n",
            "\n",
            "           1       0.97      0.95      0.96     42577\n",
            "           2       0.95      0.97      0.96     56478\n",
            "           3       0.94      0.96      0.95      7062\n",
            "           4       0.90      0.87      0.88       561\n",
            "           5       0.93      0.79      0.85      1937\n",
            "           6       0.94      0.91      0.92      3521\n",
            "           7       0.98      0.94      0.96      4067\n",
            "\n",
            "    accuracy                           0.96    116203\n",
            "   macro avg       0.94      0.91      0.93    116203\n",
            "weighted avg       0.96      0.96      0.96    116203\n",
            "\n",
            "0.9561198936344156\n"
          ]
        }
      ],
      "source": [
        "from sklearn import preprocessing\n",
        "import numpy as np\n",
        "\n",
        "\n",
        "\n",
        "from sklearn import metrics\n",
        "import pandas as pd\n",
        "\n",
        "from sklearn import ensemble\n",
        "from sklearn.model_selection import train_test_split\n",
        "\n",
        "######################データの前処理#####################\n",
        "\n",
        "#ヘッダー無しのデータ読み込み\n",
        "data = pd.read_csv(\"/content/drive/MyDrive/Colab Notebooks/CA課題用/CA課題1/covtype.data\", header=None)\n",
        "\n",
        "\n",
        "train_x = data.iloc[:, :-1]\n",
        "train_y = data.iloc[:, 54:55]\n",
        "\n",
        "\n",
        "X_train, X_test,y_train,y_test = train_test_split(train_x, train_y, test_size = 0.2, random_state = 2023)\n",
        "\n",
        "rf = ensemble.RandomForestClassifier(n_estimators=200)\n",
        "rf.fit(X_train,y_train.values.ravel())\n",
        "y_rf = rf.predict(X_test)\n",
        "\n",
        "print(\"------------------------ RandomForestsClassifier Result Summary\")\n",
        "print( metrics.classification_report(y_test, y_rf) )\n",
        "\n",
        "score = metrics.accuracy_score(y_test, y_rf)\n",
        "print(score)\n",
        "\n",
        "\n"
      ]
    }
  ],
  "metadata": {
    "colab": {
      "provenance": [],
      "mount_file_id": "1euGbnF_DIPuRwEM8ReQ4P6jMxfdJQHeq",
      "authorship_tag": "ABX9TyM1mQOpjzRK5jEZPAZiuMzE",
      "include_colab_link": true
    },
    "kernelspec": {
      "display_name": "Python 3",
      "name": "python3"
    },
    "language_info": {
      "name": "python"
    }
  },
  "nbformat": 4,
  "nbformat_minor": 0
}